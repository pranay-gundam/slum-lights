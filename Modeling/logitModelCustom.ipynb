{
 "cells": [
  {
   "cell_type": "code",
   "execution_count": 1,
   "metadata": {},
   "outputs": [],
   "source": [
    "from sklearn.linear_model import LogisticRegression\n",
    "from sklearn.model_selection import train_test_split, GridSearchCV, cross_val_score, RepeatedStratifiedKFold, StratifiedKFold\n",
    "\n",
    "from sklearn.metrics import accuracy_score, confusion_matrix,roc_curve, roc_auc_score, precision_score, recall_score, precision_recall_curve\n",
    "from sklearn.metrics import f1_score\n",
    "import pandas as pd\n",
    "import numpy as np"
   ]
  },
  {
   "cell_type": "code",
   "execution_count": 2,
   "metadata": {},
   "outputs": [
    {
     "name": "stderr",
     "output_type": "stream",
     "text": [
      "c:\\Users\\robop\\anaconda3\\lib\\site-packages\\IPython\\core\\interactiveshell.py:3418: DtypeWarning: Columns (79,80,81,82,83,84,86,87,88,89,90,92,93,94,95,96,97,98) have mixed types.Specify dtype option on import or set low_memory=False.\n",
      "  exec(code_obj, self.user_global_ns, self.user_ns)\n",
      "c:\\Users\\robop\\anaconda3\\lib\\site-packages\\IPython\\core\\interactiveshell.py:3418: DtypeWarning: Columns (92,95) have mixed types.Specify dtype option on import or set low_memory=False.\n",
      "  exec(code_obj, self.user_global_ns, self.user_ns)\n"
     ]
    }
   ],
   "source": [
    "# Reading data and formatting\n",
    "df_state = pd.read_csv(\"../kenyaState_modelAll.csv\")\n",
    "df_city = pd.read_csv(\"../kenyaCity_modelAll.csv\")\n",
    "\n",
    "\n",
    "state_cols = df_state[[\"clights_KenyaF182013\", \"cken_pd_2013\", \"slum\"]]\n",
    "city_cols = df_city[[\"clights_KenyaF182013\", \"cken_pd_2013\", \"slum\"]]\n",
    "\n",
    "CTlight_dummy = pd.get_dummies(df_city[\"clights_KenyaF182013\"], \n",
    "                              drop_first = True, \n",
    "                              prefix = \"light\")\n",
    "CTpop_dummy = pd.get_dummies(df_city[\"cken_pd_2013\"], \n",
    "                              drop_first = True, \n",
    "                              prefix = \"pop\")\n",
    "\n",
    "STlight_dummy = pd.get_dummies(df_state[\"clights_KenyaF182013\"], \n",
    "                              drop_first = True, \n",
    "                              prefix = \"light\")\n",
    "STpop_dummy = pd.get_dummies(df_state[\"cken_pd_2013\"], \n",
    "                              drop_first = True, \n",
    "                              prefix = \"pop\")\n",
    "\n",
    "\n",
    "\n",
    "city_features = np.array(pd.concat([CTlight_dummy, CTpop_dummy], axis = 1))\n",
    "city_labels = np.array(city_cols[\"slum\"])\n",
    "\n",
    "state_features = np.array(pd.concat([STlight_dummy, STpop_dummy], axis = 1))\n",
    "state_labels = np.array(state_cols[\"slum\"])\n",
    "\n"
   ]
  },
  {
   "cell_type": "code",
   "execution_count": 3,
   "metadata": {},
   "outputs": [],
   "source": [
    "trainST_features, testST_features, trainST_labels, testST_labels = train_test_split(state_features, \n",
    "                                                                                    state_labels, \n",
    "                                                                                    test_size = 0.25, \n",
    "                                                                                    random_state = 42) \n",
    "\n",
    "trainCT_features, testCT_features, trainCT_labels, testCT_labels = train_test_split(city_features, \n",
    "                                                                                    city_labels, \n",
    "                                                                                    test_size = 0.25, \n",
    "                                                                                    random_state = 42) "
   ]
  },
  {
   "cell_type": "code",
   "execution_count": null,
   "metadata": {},
   "outputs": [
    {
     "name": "stdout",
     "output_type": "stream",
     "text": [
      "[0 1] [370935  23020]\n",
      "Accuracy Score: 0.6632009666054077\n",
      "Confusion Matrix: \n",
      "[[60535 32217]\n",
      " [  954  4783]]\n",
      "Area Under Curve: 0.7431826944908393\n",
      "Recall score: 0.8337109987798501\n"
     ]
    }
   ],
   "source": [
    "_, slum_counts = np.unique(state_labels, return_counts = True)\n",
    "print(slum_counts)\n",
    "\n",
    "w_state = {0:1, 1:slum_counts[0]/slum_counts[1]}\n",
    "\n",
    "#lg_state = LogisticRegression(random_state=13, class_weight=w_state)\n",
    "lg_state = LogisticRegression(random_state=13, class_weight= \"balanced\")\n",
    "\n",
    "lg_state.fit(trainST_features, trainST_labels)\n",
    "# test\n",
    "y_pred = lg_state.predict(testST_features)\n",
    "\n",
    "print(f'Accuracy Score: {accuracy_score(testST_labels,y_pred)}')\n",
    "print(f'Confusion Matrix: \\n{confusion_matrix(testST_labels, y_pred)}')\n",
    "print(f'Area Under Curve: {roc_auc_score(testST_labels, y_pred)}')\n",
    "print(f'Recall score: {recall_score(testST_labels,y_pred)}')\n"
   ]
  },
  {
   "cell_type": "code",
   "execution_count": 5,
   "metadata": {},
   "outputs": [
    {
     "name": "stdout",
     "output_type": "stream",
     "text": [
      "[30026 22991]\n",
      "coeffs:[[ 0.33900397  0.27711585  0.84845934  0.71032945  0.57252531  0.77013278\n",
      "  -0.01596121]]\n",
      "Accuracy Score: 0.5888344021124104\n",
      "Confusion Matrix: \n",
      "[[4651 2901]\n",
      " [2549 3154]]\n",
      "Area Under Curve: 0.5844528029590432\n",
      "Recall score: 0.5530422584604594\n"
     ]
    }
   ],
   "source": [
    "_, slum_counts = np.unique(city_labels, return_counts = True)\n",
    "print( slum_counts)\n",
    "\n",
    "w_city = {0:1, 1:100}\n",
    "#w_city = {0:1, 1:slum_counts[0]/slum_counts[1]}\n",
    "\n",
    "#lg_city = LogisticRegression(random_state=13, class_weight=w_city)\n",
    "lg_city = LogisticRegression(random_state=13, class_weight= \"balanced\")\n",
    "\n",
    "lg_city.fit(trainCT_features, trainCT_labels)\n",
    "# test\n",
    "y_pred = lg_city.predict(testCT_features)\n",
    "print(f\"coeffs:{lg_city.coef_}\")\n",
    "\n",
    "print(f'Accuracy Score: {accuracy_score(testCT_labels,y_pred)}')\n",
    "print(f'Confusion Matrix: \\n{confusion_matrix(testCT_labels, y_pred)}')\n",
    "print(f'Area Under Curve: {roc_auc_score(testCT_labels, y_pred)}')\n",
    "print(f'Recall score: {recall_score(testCT_labels,y_pred)}')"
   ]
  }
 ],
 "metadata": {
  "kernelspec": {
   "display_name": "Python 3",
   "language": "python",
   "name": "python3"
  },
  "language_info": {
   "codemirror_mode": {
    "name": "ipython",
    "version": 3
   },
   "file_extension": ".py",
   "mimetype": "text/x-python",
   "name": "python",
   "nbconvert_exporter": "python",
   "pygments_lexer": "ipython3",
   "version": "3.8.5"
  }
 },
 "nbformat": 4,
 "nbformat_minor": 4
}
