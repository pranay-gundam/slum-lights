{
 "cells": [
  {
   "cell_type": "code",
   "execution_count": 3,
   "metadata": {},
   "outputs": [],
   "source": [
    "# Loading libraries\n",
    "from sklearn.ensemble import RandomForestRegressor\n",
    "from sklearn.model_selection import train_test_split\n",
    "\n",
    "import pandas as pd\n",
    "import numpy as np\n",
    "import matplotlib.pyplot as plt"
   ]
  },
  {
   "cell_type": "code",
   "execution_count": 4,
   "metadata": {},
   "outputs": [],
   "source": [
    "# Reading data and formatting\n",
    "df_state = pd.read_csv(\"../kenyaState_modelAll.csv\")\n",
    "df_city = pd.read_csv(\"../kenyaCity_modelAll.csv\")\n",
    "\n",
    "\n",
    "state_cols = df_state[[\"lights_KenyaF182013\", \"ken_pd_2013\", \"slum\"]]\n",
    "city_cols = df_city[[\"lights_KenyaF182013\", \"ken_pd_2013\", \"slum\"]]\n",
    "\n",
    "state_labels = np.array(state_cols[\"slum\"])\n",
    "city_labels = np.array(city_cols[\"slum\"])\n",
    "\n",
    "state_features = np.array(state_cols.drop(\"slum\", axis = 1))\n",
    "city_features = np.array(city_cols.drop(\"slum\", axis = 1))\n",
    "\n",
    "\n",
    "              "
   ]
  },
  {
   "cell_type": "code",
   "execution_count": 16,
   "metadata": {},
   "outputs": [],
   "source": [
    "# forming the training testing data splits\n",
    "trainST_features, testST_features, trainST_labels, testST_labels = train_test_split(state_features, \n",
    "                                                                                    state_labels, \n",
    "                                                                                    test_size = 0.25, \n",
    "                                                                                    random_state = 42) \n",
    "\n",
    "trainCT_features, testCT_features, trainCT_labels, testCT_labels = train_test_split(city_features, \n",
    "                                                                                    city_labels, \n",
    "                                                                                    test_size = 0.25, \n",
    "                                                                                    random_state = 42) "
   ]
  },
  {
   "cell_type": "code",
   "execution_count": 6,
   "metadata": {},
   "outputs": [
    {
     "data": {
      "text/plain": [
       "RandomForestRegressor(n_estimators=1000, random_state=42)"
      ]
     },
     "execution_count": 6,
     "metadata": {},
     "output_type": "execute_result"
    }
   ],
   "source": [
    "# training the city models\n",
    "rf_city = RandomForestRegressor(n_estimators = 1000, random_state = 42)\n",
    "rf_city.fit(trainCT_features, trainCT_labels)\n",
    "\n"
   ]
  },
  {
   "cell_type": "code",
   "execution_count": 13,
   "metadata": {},
   "outputs": [
    {
     "name": "stdout",
     "output_type": "stream",
     "text": [
      "Error:0.34983025273481705\n"
     ]
    }
   ],
   "source": [
    "predictionsCT = rf_city.predict(testCT_features)\n",
    "labelized_predCT = [1 if x >= 0.5 else 0 for x in predictionsCT]\n",
    "errorsCT = np.abs(labelized_predCT - testCT_labels)\n",
    "\n",
    "print(f'Error:{np.sum(errorsCT)/len(predictionsCT)}')\n"
   ]
  },
  {
   "cell_type": "code",
   "execution_count": 17,
   "metadata": {},
   "outputs": [
    {
     "data": {
      "text/plain": [
       "RandomForestRegressor(n_estimators=1000, random_state=42)"
      ]
     },
     "execution_count": 17,
     "metadata": {},
     "output_type": "execute_result"
    }
   ],
   "source": [
    "# training the city models\n",
    "rf_state = RandomForestRegressor(n_estimators = 1000, random_state = 42)\n",
    "rf_state.fit(trainST_features, trainST_labels)"
   ]
  },
  {
   "cell_type": "code",
   "execution_count": 19,
   "metadata": {},
   "outputs": [
    {
     "name": "stdout",
     "output_type": "stream",
     "text": [
      "Error:0.3018712749647169\n"
     ]
    }
   ],
   "source": [
    "predictionsST = rf_city.predict(testST_features)\n",
    "labelized_predST = [1 if x>= 0.5 else 0 for x in predictionsST]\n",
    "errorsST = np.abs(labelized_predST - testST_labels)\n",
    "\n",
    "print(f'Error:{np.sum(errorsST)/len(predictionsST)}')"
   ]
  }
 ],
 "metadata": {
  "kernelspec": {
   "display_name": "Python 3",
   "language": "python",
   "name": "python3"
  },
  "language_info": {
   "codemirror_mode": {
    "name": "ipython",
    "version": 3
   },
   "file_extension": ".py",
   "mimetype": "text/x-python",
   "name": "python",
   "nbconvert_exporter": "python",
   "pygments_lexer": "ipython3",
   "version": "3.8.5"
  },
  "vscode": {
   "interpreter": {
    "hash": "f961ed8876672c3fa1ba010204608387b990eeba5fc22ca9f82bd95df7188ce1"
   }
  }
 },
 "nbformat": 4,
 "nbformat_minor": 2
}
